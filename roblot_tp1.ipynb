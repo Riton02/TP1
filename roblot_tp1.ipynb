{
  "nbformat": 4,
  "nbformat_minor": 5,
  "metadata": {
    "kernelspec": {
      "display_name": "Python 3",
      "language": "python",
      "name": "python3"
    },
    "language_info": {
      "codemirror_mode": {
        "name": "ipython",
        "version": 3
      },
      "file_extension": ".py",
      "mimetype": "text/x-python",
      "name": "python",
      "nbconvert_exporter": "python",
      "pygments_lexer": "ipython3",
      "version": "3.8.10"
    },
    "colab": {
      "name": "Copie de tp1.ipynb",
      "provenance": [],
      "collapsed_sections": [],
      "include_colab_link": true
    }
  },
  "cells": [
    {
      "cell_type": "markdown",
      "metadata": {
        "id": "view-in-github",
        "colab_type": "text"
      },
      "source": [
        "<a href=\"https://colab.research.google.com/github/Riton02/TP1/blob/main/roblot_tp1.ipynb\" target=\"_parent\"><img src=\"https://colab.research.google.com/assets/colab-badge.svg\" alt=\"Open In Colab\"/></a>"
      ]
    },
    {
      "cell_type": "markdown",
      "metadata": {
        "id": "c8b78857"
      },
      "source": [
        ">Ouvrir le notebook dans Colab en modifiant le début de son adresse dans le navigateur :<br>\n",
        "il faut remplacer **github.com** par **githubtocolab.com**.<br>\n",
        "Une fois vos réponses apportées, le notebook devra être sauvegardé dans GitHub, dans le repository du TP :<br>\n",
        "*Fichier > Enregistrer une copie dans Github*<br>\n",
        "*Info-TSI-Vieljeux/tpx-votre_nom*<br>\n",
        "\n",
        "---"
      ],
      "id": "c8b78857"
    },
    {
      "cell_type": "markdown",
      "metadata": {
        "deletable": false,
        "editable": false,
        "nbgrader": {
          "cell_type": "markdown",
          "checksum": "a3b178a01754acd6aba902ebb1f0fd47",
          "grade": false,
          "grade_id": "cell-bb396784ac765eda",
          "locked": true,
          "schema_version": 3,
          "solution": false,
          "task": false
        },
        "id": "56535d36"
      },
      "source": [
        "# TP 1 : Recherche séquentielle dans un tableau unidimensionnel. Dictionnaires.\n",
        "\n",
        "1.   Élément de liste\n",
        "2.   Élément de liste\n",
        "\n"
      ],
      "id": "56535d36"
    },
    {
      "cell_type": "markdown",
      "metadata": {
        "deletable": false,
        "editable": false,
        "nbgrader": {
          "cell_type": "markdown",
          "checksum": "269611f38960bbeffb31c55420bc2d68",
          "grade": false,
          "grade_id": "cell-eca3393cec01799c",
          "locked": true,
          "schema_version": 3,
          "solution": false,
          "task": false
        },
        "id": "0e9b1d0e"
      },
      "source": [
        "## Recherche d'un élément dans une liste"
      ],
      "id": "0e9b1d0e"
    },
    {
      "cell_type": "markdown",
      "metadata": {
        "deletable": false,
        "editable": false,
        "nbgrader": {
          "cell_type": "markdown",
          "checksum": "aac9db2401cacc2722d7ccf219692085",
          "grade": false,
          "grade_id": "cell-edf93f7b9043fc41",
          "locked": true,
          "schema_version": 3,
          "solution": false,
          "task": false
        },
        "id": "90501a5e"
      },
      "source": [
        "Écrire une fonction `recherche` qui prend pour argument un élément et une liste et qui retourne `True` si l'élément est présent et `False` sinon.<br>\n",
        "Le corps de la fonction devra comprendre une boucle."
      ],
      "id": "90501a5e"
    },
    {
      "cell_type": "code",
      "metadata": {
        "deletable": false,
        "nbgrader": {
          "cell_type": "code",
          "checksum": "6849e48cca565fd885e16bffe8ed7905",
          "grade": false,
          "grade_id": "rech",
          "locked": false,
          "schema_version": 3,
          "solution": true,
          "task": false
        },
        "id": "59fcae1a"
      },
      "source": [
        "def recherche(x,L) :\n",
        "    '''\n",
        "    recherche(x: tout type, L : list) -> bool\n",
        "    '''\n",
        "    for i in L:\n",
        "      if x==i:\n",
        "        return True\n",
        "    return False"
      ],
      "id": "59fcae1a",
      "execution_count": 77,
      "outputs": []
    },
    {
      "cell_type": "code",
      "metadata": {
        "deletable": false,
        "editable": false,
        "nbgrader": {
          "cell_type": "code",
          "checksum": "e9187ddfa6ff7b6f526e652e1bb85b58",
          "grade": true,
          "grade_id": "rep_rech",
          "locked": true,
          "points": 1,
          "schema_version": 3,
          "solution": false,
          "task": false
        },
        "id": "1f402458"
      },
      "source": [
        "# Cellule d'évaluation (ne pas modifier)"
      ],
      "id": "1f402458",
      "execution_count": 78,
      "outputs": []
    },
    {
      "cell_type": "code",
      "metadata": {
        "colab": {
          "base_uri": "https://localhost:8080/"
        },
        "id": "308efbf5",
        "outputId": "b054e7f4-ecde-424e-fcdf-d5a0bfad9fb5"
      },
      "source": [
        "L=[1,2,3,5,7,4,6,8]\n",
        "recherche (6,L)"
      ],
      "id": "308efbf5",
      "execution_count": 79,
      "outputs": [
        {
          "output_type": "execute_result",
          "data": {
            "text/plain": [
              "True"
            ]
          },
          "metadata": {},
          "execution_count": 79
        }
      ]
    },
    {
      "cell_type": "markdown",
      "metadata": {
        "deletable": false,
        "editable": false,
        "nbgrader": {
          "cell_type": "markdown",
          "checksum": "4e62768815d9064a83938d3f34f999c4",
          "grade": false,
          "grade_id": "cell-bb5da912440250a0",
          "locked": true,
          "schema_version": 3,
          "solution": false,
          "task": false
        },
        "id": "8cc83f4b"
      },
      "source": [
        "Dans le pire des cas (élément ne se trouvant pas dans la liste), combien de comparaisons doit-on opérer pour savoir si un élément est présent dans une liste de taille 400&nbsp;?"
      ],
      "id": "8cc83f4b"
    },
    {
      "cell_type": "code",
      "metadata": {
        "id": "dde127f4"
      },
      "source": [
        "# noter votre réponse en affectant à la variable nb le nombre de comparaisons calculé\n",
        "nb = 400"
      ],
      "id": "dde127f4",
      "execution_count": 80,
      "outputs": []
    },
    {
      "cell_type": "code",
      "metadata": {
        "deletable": false,
        "editable": false,
        "nbgrader": {
          "cell_type": "code",
          "checksum": "f2d8f97f3645de8fee0868d412cd7132",
          "grade": true,
          "grade_id": "cell-77d7ebba6f7e5cc5",
          "locked": true,
          "points": 1,
          "schema_version": 3,
          "solution": false,
          "task": false
        },
        "id": "1764e834"
      },
      "source": [
        "# Cellule d'évaluation (ne pas modifier)"
      ],
      "id": "1764e834",
      "execution_count": null,
      "outputs": []
    },
    {
      "cell_type": "markdown",
      "metadata": {
        "deletable": false,
        "editable": false,
        "nbgrader": {
          "cell_type": "markdown",
          "checksum": "4c09e12fec590d7c69bcafbeecc80b6c",
          "grade": false,
          "grade_id": "cell-007edf84a534a8f2",
          "locked": true,
          "schema_version": 3,
          "solution": false,
          "task": false
        },
        "id": "90fb90e6"
      },
      "source": [
        "Construisez une fonction `dico` qui prend en argument une liste `L` de $n$ entiers inférieurs à $n$ et qui retourne un dictionnaire de longueur $n$ dont les clés sont les $n$ premiers entiers (de 0 à $n$-1) et les valeurs comptent le nombre de fois que la clé est présente dans la liste.<br>\n",
        "Exemple :<br>\n",
        "s'il y a 2 fois l'élément 18 dans la liste `L`, alors `dico(L)[18]==2`, et si l'élément 97 n'est pas présent dans la liste, alors `dico(L)[97]==0`."
      ],
      "id": "90fb90e6"
    },
    {
      "cell_type": "code",
      "metadata": {
        "deletable": false,
        "nbgrader": {
          "cell_type": "code",
          "checksum": "a254da3e02896ddb0ace0816c420c101",
          "grade": false,
          "grade_id": "dico",
          "locked": false,
          "schema_version": 3,
          "solution": true,
          "task": false
        },
        "id": "d7a53f86"
      },
      "source": [
        "from random import randint \n",
        "\n",
        "def dico(L) :\n",
        "    '''\n",
        "    dico(L : list) -> dict\n",
        "    précondition : si la longueur de L vaut n, alors L ne contient que des entiers < n\n",
        "    '''\n",
        "    n= len(L)\n",
        "    D= {}\n",
        "    for i in range(n):\n",
        "      D[i]=0\n",
        "    for e in L:\n",
        "      D[e]+=1\n",
        "    return D\n",
        "    "
      ],
      "id": "d7a53f86",
      "execution_count": null,
      "outputs": []
    },
    {
      "cell_type": "code",
      "metadata": {
        "deletable": false,
        "editable": false,
        "nbgrader": {
          "cell_type": "code",
          "checksum": "108735e2ce49f0c81d7be1fd1faae38d",
          "grade": true,
          "grade_id": "rep_dico",
          "locked": true,
          "points": 1,
          "schema_version": 3,
          "solution": false,
          "task": false
        },
        "id": "2e909928"
      },
      "source": [
        "# Cellule d'évaluation (ne pas modifier)"
      ],
      "id": "2e909928",
      "execution_count": null,
      "outputs": []
    },
    {
      "cell_type": "code",
      "metadata": {
        "colab": {
          "base_uri": "https://localhost:8080/"
        },
        "id": "B3SQx78oPGAk",
        "outputId": "b32f8bd1-a186-42a6-9057-76d10304aff9"
      },
      "source": [
        "dico([1,4,2,1,2,4])"
      ],
      "id": "B3SQx78oPGAk",
      "execution_count": null,
      "outputs": [
        {
          "output_type": "execute_result",
          "data": {
            "text/plain": [
              "{0: 0, 1: 2, 2: 2, 3: 0, 4: 2, 5: 0}"
            ]
          },
          "metadata": {},
          "execution_count": 6
        }
      ]
    },
    {
      "cell_type": "markdown",
      "metadata": {
        "deletable": false,
        "editable": false,
        "nbgrader": {
          "cell_type": "markdown",
          "checksum": "4de6bf3a550b77b762d0a91685cb60b4",
          "grade": false,
          "grade_id": "cell-28e1b3486ea64286",
          "locked": true,
          "schema_version": 3,
          "solution": false,
          "task": false
        },
        "id": "9fb5eeca"
      },
      "source": [
        "Définissons une fonction `recherche_dico` qui vérifie si un entier est bien présent :"
      ],
      "id": "9fb5eeca"
    },
    {
      "cell_type": "code",
      "metadata": {
        "deletable": false,
        "editable": false,
        "nbgrader": {
          "cell_type": "code",
          "checksum": "668c6cb0ae5c3dbb395b304a345cccc0",
          "grade": false,
          "grade_id": "cell-f15397680e795b1a",
          "locked": true,
          "schema_version": 3,
          "solution": false,
          "task": false
        },
        "id": "3ae9ffb3",
        "colab": {
          "base_uri": "https://localhost:8080/"
        },
        "outputId": "9d6aef3d-cdda-4c46-e4c7-7344e384d5e3"
      },
      "source": [
        "def recherche_dico(e,dic) :\n",
        "    '''\n",
        "    recherche_dico(e : int, dic : dict) -> bool\n",
        "    '''\n",
        "    if dic[e] >= 1 :\n",
        "        return True\n",
        "    else :\n",
        "        return False\n",
        "    \n",
        "# Exemple d'utilisation :\n",
        "L = [5,2,3,1,2,0,2]\n",
        "dic = dico(L)\n",
        "(recherche_dico(3,dic),recherche_dico(4,dic))"
      ],
      "id": "3ae9ffb3",
      "execution_count": null,
      "outputs": [
        {
          "output_type": "execute_result",
          "data": {
            "text/plain": [
              "(True, False)"
            ]
          },
          "metadata": {},
          "execution_count": 7
        }
      ]
    },
    {
      "cell_type": "markdown",
      "metadata": {
        "id": "55fc6256"
      },
      "source": [
        "L'intérêt de `recherche-dico` est d'aller beaucoup plus vite que `recherche` comme le montre le graphe suivant (l'execution du code peut prendre quelques secondes) :"
      ],
      "id": "55fc6256"
    },
    {
      "cell_type": "code",
      "metadata": {
        "deletable": false,
        "editable": false,
        "nbgrader": {
          "cell_type": "code",
          "checksum": "82ecd82af0cecf796477de2d0e4bedf0",
          "grade": false,
          "grade_id": "cell-dbac9dc628057070",
          "locked": true,
          "schema_version": 3,
          "solution": false,
          "task": false
        },
        "id": "22595f6a",
        "colab": {
          "base_uri": "https://localhost:8080/",
          "height": 355
        },
        "outputId": "22d2d2a2-dbc9-4d26-b7f9-8a790de91fcf"
      },
      "source": [
        "from time import time\n",
        "from random import randint\n",
        "import matplotlib.pyplot as plt\n",
        "plt.style.use('ggplot')\n",
        "\n",
        "I, T_ch, T_dico = [], [], []\n",
        "\n",
        "for i in range(1000,200000,1000) :\n",
        "    L = []\n",
        "    L = [randint(0,i-1) for k in range(i)] # randint(i,j) retourne un entier dans {i;...;j}\n",
        "    # la liste L contient i éléments tirés au hasard entre 0 et i-1\n",
        "    dic = dico(L)                          # on crée un dictionnaire à partir de L grâce à la fonction 'dico'\n",
        "    element = randint(0,i-1)               # 'element' est un entier tiré au hasard entre 0 et i-1\n",
        "    start = time()                         # on note l'heure exacte\n",
        "    recherche(element,L)\n",
        "    stop1 = time()\n",
        "    recherche_dico(element,dic)\n",
        "    stop2 = time()\n",
        "    T_ch.append(stop1-start)\n",
        "    T_dico.append(stop2-stop1)\n",
        "    I.append(i)\n",
        "\n",
        "plt.figure(figsize = (15,5))\n",
        "plt.plot(I,T_dico,label=\"recherche_dico\")\n",
        "plt.plot(I,T_ch,label=\"votre fonction 'recherche'\")\n",
        "plt.xlabel('taille de la liste')\n",
        "plt.ylabel(\"temps d'exécution (s)\")\n",
        "plt.legend()"
      ],
      "id": "22595f6a",
      "execution_count": null,
      "outputs": [
        {
          "output_type": "execute_result",
          "data": {
            "text/plain": [
              "<matplotlib.legend.Legend at 0x7fe353c37b10>"
            ]
          },
          "metadata": {},
          "execution_count": 8
        },
        {
          "output_type": "display_data",
          "data": {
            "image/png": "[encoded data removed]",
            "text/plain": [
              "<Figure size 1080x360 with 1 Axes>"
            ]
          },
          "metadata": {}
        }
      ]
    },
    {
      "cell_type": "markdown",
      "metadata": {
        "deletable": false,
        "editable": false,
        "nbgrader": {
          "cell_type": "markdown",
          "checksum": "4ba08561db03e2f3469fcbf66f0588a3",
          "grade": false,
          "grade_id": "cell-7e3cef8d519ba63d",
          "locked": true,
          "schema_version": 3,
          "solution": false,
          "task": false
        },
        "id": "26c2400e"
      },
      "source": [
        "## Recherche d'un maximum"
      ],
      "id": "26c2400e"
    },
    {
      "cell_type": "markdown",
      "metadata": {
        "deletable": false,
        "editable": false,
        "nbgrader": {
          "cell_type": "markdown",
          "checksum": "3839e11a50024f2d3336441523ea5366",
          "grade": false,
          "grade_id": "cell-433b26a930e8156a",
          "locked": true,
          "schema_version": 3,
          "solution": false,
          "task": false
        },
        "id": "40b0bfd3"
      },
      "source": [
        "Écrire une fonction `maximum` qui prend pour argument une liste et qui retourne le plus grand élément de la liste.<br>\n",
        "(Interdiciton d'utiliser la fonction native `max` évidemment)"
      ],
      "id": "40b0bfd3"
    },
    {
      "cell_type": "code",
      "metadata": {
        "deletable": false,
        "nbgrader": {
          "cell_type": "code",
          "checksum": "468fb97210d741c6f9cb608cf9c839ae",
          "grade": false,
          "grade_id": "max",
          "locked": false,
          "schema_version": 3,
          "solution": true,
          "task": false
        },
        "id": "3f6472c3"
      },
      "source": [
        "def maximum(L) :\n",
        "    '''\n",
        "    maximum(L : list) -> float ou int\n",
        "    '''\n",
        "    maxi=L[0]\n",
        "    for e in L:\n",
        "        if e>=maxi:\n",
        "            maxi= e\n",
        "    return maxi "
      ],
      "id": "3f6472c3",
      "execution_count": 94,
      "outputs": []
    },
    {
      "cell_type": "code",
      "metadata": {
        "deletable": false,
        "editable": false,
        "nbgrader": {
          "cell_type": "code",
          "checksum": "9b97802f1147f9ca891965d6ae28fa86",
          "grade": true,
          "grade_id": "rep_max",
          "locked": true,
          "points": 1,
          "schema_version": 3,
          "solution": false,
          "task": false
        },
        "id": "d1e46682"
      },
      "source": [
        "# Cellule d'évaluation (ne pas modifier)"
      ],
      "id": "d1e46682",
      "execution_count": 45,
      "outputs": []
    },
    {
      "cell_type": "code",
      "metadata": {
        "deletable": false,
        "editable": false,
        "nbgrader": {
          "cell_type": "code",
          "checksum": "16eb74a83e982b0f8dcaa4440af7e71f",
          "grade": true,
          "grade_id": "rep_max_bis",
          "locked": true,
          "points": 1,
          "schema_version": 3,
          "solution": false,
          "task": false
        },
        "id": "f2801bb4"
      },
      "source": [
        "# Cellule d'évaluation (ne pas modifier)"
      ],
      "id": "f2801bb4",
      "execution_count": 44,
      "outputs": []
    },
    {
      "cell_type": "code",
      "metadata": {
        "id": "789b0c3c",
        "colab": {
          "base_uri": "https://localhost:8080/"
        },
        "outputId": "cece5785-da1b-4136-856c-c411f4b0b241"
      },
      "source": [
        "maximum([1,4,6,7,90])"
      ],
      "id": "789b0c3c",
      "execution_count": 95,
      "outputs": [
        {
          "output_type": "execute_result",
          "data": {
            "text/plain": [
              "90"
            ]
          },
          "metadata": {},
          "execution_count": 95
        }
      ]
    },
    {
      "cell_type": "markdown",
      "metadata": {
        "deletable": false,
        "editable": false,
        "nbgrader": {
          "cell_type": "markdown",
          "checksum": "954ac730a2de3729e39e9e6b3c5371ac",
          "grade": false,
          "grade_id": "cell-149c326c447ed482",
          "locked": true,
          "schema_version": 3,
          "solution": false,
          "task": false
        },
        "id": "528efe82"
      },
      "source": [
        "Que se passera-t-il si on passe la liste suivante `[1,3,'a',-2]` en argument à `maximum` ?<br>"
      ],
      "id": "528efe82"
    },
    {
      "cell_type": "code",
      "metadata": {
        "id": "ebcea03c",
        "colab": {
          "base_uri": "https://localhost:8080/",
          "height": 282
        },
        "outputId": "dcba5a70-477c-4b2a-db17-518e88e288cc"
      },
      "source": [
        "maximum([1,3,'a',-2])"
      ],
      "id": "ebcea03c",
      "execution_count": null,
      "outputs": [
        {
          "output_type": "error",
          "ename": "TypeError",
          "evalue": "ignored",
          "traceback": [
            "\u001b[0;31m---------------------------------------------------------------------------\u001b[0m",
            "\u001b[0;31mTypeError\u001b[0m                                 Traceback (most recent call last)",
            "\u001b[0;32m<ipython-input-15-dd66df58b687>\u001b[0m in \u001b[0;36m<module>\u001b[0;34m()\u001b[0m\n\u001b[0;32m----> 1\u001b[0;31m \u001b[0mmaximum\u001b[0m\u001b[0;34m(\u001b[0m\u001b[0;34m[\u001b[0m\u001b[0;36m1\u001b[0m\u001b[0;34m,\u001b[0m\u001b[0;36m3\u001b[0m\u001b[0;34m,\u001b[0m\u001b[0;34m'a'\u001b[0m\u001b[0;34m,\u001b[0m\u001b[0;34m-\u001b[0m\u001b[0;36m2\u001b[0m\u001b[0;34m]\u001b[0m\u001b[0;34m)\u001b[0m\u001b[0;34m\u001b[0m\u001b[0;34m\u001b[0m\u001b[0m\n\u001b[0m",
            "\u001b[0;32m<ipython-input-13-5cacfeea2cf6>\u001b[0m in \u001b[0;36mmaximum\u001b[0;34m(L)\u001b[0m\n\u001b[1;32m      6\u001b[0m     \u001b[0mm\u001b[0m\u001b[0;34m=\u001b[0m\u001b[0mL\u001b[0m\u001b[0;34m[\u001b[0m\u001b[0;36m0\u001b[0m\u001b[0;34m]\u001b[0m\u001b[0;34m\u001b[0m\u001b[0;34m\u001b[0m\u001b[0m\n\u001b[1;32m      7\u001b[0m     \u001b[0;32mfor\u001b[0m \u001b[0me\u001b[0m \u001b[0;32min\u001b[0m \u001b[0mrange\u001b[0m \u001b[0;34m(\u001b[0m\u001b[0;36m0\u001b[0m\u001b[0;34m,\u001b[0m\u001b[0mlen\u001b[0m\u001b[0;34m(\u001b[0m\u001b[0mL\u001b[0m\u001b[0;34m)\u001b[0m\u001b[0;34m)\u001b[0m\u001b[0;34m:\u001b[0m\u001b[0;34m\u001b[0m\u001b[0;34m\u001b[0m\u001b[0m\n\u001b[0;32m----> 8\u001b[0;31m         \u001b[0;32mif\u001b[0m \u001b[0mL\u001b[0m\u001b[0;34m(\u001b[0m\u001b[0me\u001b[0m\u001b[0;34m)\u001b[0m\u001b[0;34m>\u001b[0m\u001b[0mm\u001b[0m\u001b[0;34m:\u001b[0m\u001b[0;34m\u001b[0m\u001b[0;34m\u001b[0m\u001b[0m\n\u001b[0m\u001b[1;32m      9\u001b[0m             \u001b[0mm\u001b[0m\u001b[0;34m=\u001b[0m\u001b[0mL\u001b[0m\u001b[0;34m[\u001b[0m\u001b[0me\u001b[0m\u001b[0;34m]\u001b[0m\u001b[0;34m\u001b[0m\u001b[0;34m\u001b[0m\u001b[0m\n\u001b[1;32m     10\u001b[0m     \u001b[0mprint\u001b[0m \u001b[0;34m(\u001b[0m\u001b[0mm\u001b[0m\u001b[0;34m)\u001b[0m\u001b[0;34m\u001b[0m\u001b[0;34m\u001b[0m\u001b[0m\n",
            "\u001b[0;31mTypeError\u001b[0m: 'list' object is not callable"
          ]
        }
      ]
    },
    {
      "cell_type": "markdown",
      "metadata": {
        "deletable": false,
        "editable": false,
        "nbgrader": {
          "cell_type": "markdown",
          "checksum": "35482b88bda1512ee0f61c6ac3ff5b8e",
          "grade": false,
          "grade_id": "cell-0339904ee763d4e3",
          "locked": true,
          "schema_version": 3,
          "solution": false,
          "task": false
        },
        "id": "90ae6687"
      },
      "source": [
        "Pour éviter cela, vous devrez tester en amont que la liste donnée en argument contient bien que des nombres.<br>\n",
        "Rappel : `type(3)` renvoie `int` et `type(2.8)` renvoie `float`.<br>\n",
        "Vous placerez un `assert` en début de fonction prévenant l'utilisateur que la liste contient des types farfelus."
      ],
      "id": "90ae6687"
    },
    {
      "cell_type": "code",
      "metadata": {
        "deletable": false,
        "nbgrader": {
          "cell_type": "code",
          "checksum": "e3c9cbd377c7cc38641a22535bd45bf4",
          "grade": false,
          "grade_id": "max_secu",
          "locked": false,
          "schema_version": 3,
          "solution": true,
          "task": false
        },
        "id": "1aeec602"
      },
      "source": [
        "def maximum_secure(L) :\n",
        "    '''\n",
        "    maximum(L : list) -> float ou int\n",
        "    la fonction lève une 'AsserionError' si la liste ne contient pas que des nombres\n",
        "    '''\n",
        "    # VOTRE CODE"
      ],
      "id": "1aeec602",
      "execution_count": null,
      "outputs": []
    },
    {
      "cell_type": "code",
      "metadata": {
        "deletable": false,
        "editable": false,
        "nbgrader": {
          "cell_type": "code",
          "checksum": "6fd9688d1596af6b3fc1eaeb218a8b56",
          "grade": true,
          "grade_id": "rep_max_secu",
          "locked": true,
          "points": 1,
          "schema_version": 3,
          "solution": false,
          "task": false
        },
        "id": "4b3c5684"
      },
      "source": [
        "# Cellule d'évaluation (ne pas modifier)"
      ],
      "id": "4b3c5684",
      "execution_count": null,
      "outputs": []
    },
    {
      "cell_type": "code",
      "metadata": {
        "id": "323d90fe"
      },
      "source": [
        "# Vous pouvez tester votre fonction dans cette cellule\n"
      ],
      "id": "323d90fe",
      "execution_count": null,
      "outputs": []
    },
    {
      "cell_type": "markdown",
      "metadata": {
        "deletable": false,
        "editable": false,
        "nbgrader": {
          "cell_type": "markdown",
          "checksum": "541c1046c38971e3e3f5be8c034a0276",
          "grade": false,
          "grade_id": "cell-d50bb2e4f5164703",
          "locked": true,
          "schema_version": 3,
          "solution": false,
          "task": false
        },
        "id": "ae97bdaa"
      },
      "source": [
        "Construisez maintenant une fonction `max_2` qui retourne le deuxième maximum défini comme le plus grand élément strictement inférieur au maximum (s'il y a plusieurs éléments ayant la valeur maximale, il ne faut pas retourner un de ceux-là).<br>\n",
        "Votre fonction `max_2` devra utiliser votre ancienne fonction `maximum`."
      ],
      "id": "ae97bdaa"
    },
    {
      "cell_type": "code",
      "metadata": {
        "deletable": false,
        "nbgrader": {
          "cell_type": "code",
          "checksum": "672eda8c761bce1ee716517619c1b71d",
          "grade": false,
          "grade_id": "max2",
          "locked": false,
          "schema_version": 3,
          "solution": true,
          "task": false
        },
        "id": "c237275f"
      },
      "source": [
        "def max_2(L) :\n",
        "    '''\n",
        "    maximum_2(L : list) -> float ou int\n",
        "    précondition : L est une liste de nombres\n",
        "    postcondition : la fonction retourne le plus grand élément strictement plus petit que le max de la liste.\n",
        "    '''\n",
        "    # VOTRE CODE"
      ],
      "id": "c237275f",
      "execution_count": null,
      "outputs": []
    },
    {
      "cell_type": "code",
      "metadata": {
        "deletable": false,
        "editable": false,
        "nbgrader": {
          "cell_type": "code",
          "checksum": "aab3f362c7aeea20e7d15699d0f60236",
          "grade": true,
          "grade_id": "rep_max2",
          "locked": true,
          "points": 1,
          "schema_version": 3,
          "solution": false,
          "task": false
        },
        "id": "400a85e1"
      },
      "source": [
        "# Cellule d'évaluation (ne pas modifier)"
      ],
      "id": "400a85e1",
      "execution_count": null,
      "outputs": []
    },
    {
      "cell_type": "code",
      "metadata": {
        "id": "69640fc2"
      },
      "source": [
        "# Vous pouvez tester votre fonction dans cette cellule\n"
      ],
      "id": "69640fc2",
      "execution_count": null,
      "outputs": []
    },
    {
      "cell_type": "markdown",
      "metadata": {
        "deletable": false,
        "editable": false,
        "nbgrader": {
          "cell_type": "markdown",
          "checksum": "9099036bb8a472b8d27037bca3cc59b5",
          "grade": false,
          "grade_id": "cell-5e66d6393e4fa053",
          "locked": true,
          "schema_version": 3,
          "solution": false,
          "task": false
        },
        "id": "32cbda10"
      },
      "source": [
        "Ci-dessous est représentée l'évolution du temps d'exécution de la fonction native `max` ainsi que de la fonction `maximum` (si vous avez réussi à l'implémenter) en fonction de la taille de la liste en argument.<br>\n",
        "On remarque que cette évolution est linéaire : l'augmentation du temps d'exécution semble proportionnelle à l'augmentation de la taille de la liste.<br>\n",
        "Rq : les blocs introduit par `try` et `except` ne sont là que pour gérer l'éventualité que vous n'ayez pas une fonction `maximum` opérationnelle."
      ],
      "id": "32cbda10"
    },
    {
      "cell_type": "code",
      "metadata": {
        "id": "17497571"
      },
      "source": [
        "I, T_max, T_maximum = [], [], []\n",
        "for i in range(50000,1000000,50000) :\n",
        "    L = []\n",
        "    for k in range(i) :\n",
        "        L += [randint(0,k)]\n",
        "        # randint(i,j) retourne un entier dans {i;...;j}\n",
        "    start1 = time()\n",
        "    max(L)\n",
        "    stop1 = time()\n",
        "    T_max.append(stop1-start1)\n",
        "    start2 = time()\n",
        "    maximum(L)\n",
        "    stop2 = time()\n",
        "    T_maximum.append(stop2-start2)\n",
        "    I.append(i)\n",
        "\n",
        "plt.figure(figsize = (15,5))\n",
        "plt.plot(I,T_max,label=\"la fonction Python 'max'\")\n",
        "plt.plot(I,T_maximum,label=\"votre fonction 'maximum'\")\n",
        "\n",
        "plt.xlabel('taille de la liste')\n",
        "plt.ylabel(\"temps d'exécution (s)\")\n",
        "plt.legend()"
      ],
      "id": "17497571",
      "execution_count": null,
      "outputs": []
    },
    {
      "cell_type": "markdown",
      "metadata": {
        "deletable": false,
        "editable": false,
        "nbgrader": {
          "cell_type": "markdown",
          "checksum": "40e7e001a3ab9a654ef92edb1f2d1e4f",
          "grade": false,
          "grade_id": "cell-ac0e107a4e2da0d8",
          "locked": true,
          "schema_version": 3,
          "solution": false,
          "task": false
        },
        "id": "dba9e531"
      },
      "source": [
        "Ajoutez la fonction `max_2` à ce graphe et répondre dans la cellule suivante si oui ou non, le temps d'exécution de `max_2` semble dépendre linéairement de la taille de la liste.<br>"
      ],
      "id": "dba9e531"
    },
    {
      "cell_type": "code",
      "metadata": {
        "id": "040c5260"
      },
      "source": [
        "# si votre réponse est oui, la variable s doit se voir affecter la chaîne de caractères 'OUI' et sinon, la chaîne 'NON'.\n",
        "s = '...'"
      ],
      "id": "040c5260",
      "execution_count": null,
      "outputs": []
    },
    {
      "cell_type": "code",
      "metadata": {
        "deletable": false,
        "editable": false,
        "nbgrader": {
          "cell_type": "code",
          "checksum": "4014720f882956fba3547bb63fc5de91",
          "grade": true,
          "grade_id": "rep_lin",
          "locked": true,
          "points": 1,
          "schema_version": 3,
          "solution": false,
          "task": false
        },
        "id": "8af879f4"
      },
      "source": [
        "# Cellule d'évaluation (ne pas modifier)"
      ],
      "id": "8af879f4",
      "execution_count": null,
      "outputs": []
    }
  ]
}