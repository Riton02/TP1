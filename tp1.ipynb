{
 "cells": [
  {
   "cell_type": "markdown",
   "id": "c8b78857",
   "metadata": {},
   "source": [
    ">Ouvrir le notebook dans Colab en modifiant le début de son adresse dans le navigateur :<br>\n",
    "il faut remplacer **github.com** par **githubtocolab.com**.<br>\n",
    "Une fois vos réponses apportées, le notebook devra être sauvegardé dans GitHub, dans le repository du TP :<br>\n",
    "*Fichier > Enregistrer une copie dans Github*<br>\n",
    "*Info-TSI-Vieljeux/tpx-votre_nom*<br>\n",
    "\n",
    "---"
   ]
  },
  {
   "cell_type": "markdown",
   "id": "56535d36",
   "metadata": {
    "deletable": false,
    "editable": false,
    "nbgrader": {
     "cell_type": "markdown",
     "checksum": "a3b178a01754acd6aba902ebb1f0fd47",
     "grade": false,
     "grade_id": "cell-bb396784ac765eda",
     "locked": true,
     "schema_version": 3,
     "solution": false,
     "task": false
    }
   },
   "source": [
    "# TP 1 : Recherche séquentielle dans un tableau unidimensionnel. Dictionnaires."
   ]
  },
  {
   "cell_type": "markdown",
   "id": "0e9b1d0e",
   "metadata": {
    "deletable": false,
    "editable": false,
    "nbgrader": {
     "cell_type": "markdown",
     "checksum": "269611f38960bbeffb31c55420bc2d68",
     "grade": false,
     "grade_id": "cell-eca3393cec01799c",
     "locked": true,
     "schema_version": 3,
     "solution": false,
     "task": false
    }
   },
   "source": [
    "## Recherche d'un élément dans une liste"
   ]
  },
  {
   "cell_type": "markdown",
   "id": "90501a5e",
   "metadata": {
    "deletable": false,
    "editable": false,
    "nbgrader": {
     "cell_type": "markdown",
     "checksum": "aac9db2401cacc2722d7ccf219692085",
     "grade": false,
     "grade_id": "cell-edf93f7b9043fc41",
     "locked": true,
     "schema_version": 3,
     "solution": false,
     "task": false
    }
   },
   "source": [
    "Écrire une fonction `recherche` qui prend pour argument un élément et une liste et qui retourne `True` si l'élément est présent et `False` sinon.<br>\n",
    "Le corps de la fonction devra comprendre une boucle."
   ]
  },
  {
   "cell_type": "code",
   "execution_count": null,
   "id": "59fcae1a",
   "metadata": {
    "deletable": false,
    "nbgrader": {
     "cell_type": "code",
     "checksum": "6849e48cca565fd885e16bffe8ed7905",
     "grade": false,
     "grade_id": "rech",
     "locked": false,
     "schema_version": 3,
     "solution": true,
     "task": false
    }
   },
   "outputs": [],
   "source": [
    "def recherche(x,L) :\n",
    "    '''\n",
    "    recherche(x: tout type, L : list) -> bool\n",
    "    '''\n",
    "    # VOTRE CODE"
   ]
  },
  {
   "cell_type": "code",
   "execution_count": null,
   "id": "1f402458",
   "metadata": {
    "deletable": false,
    "editable": false,
    "nbgrader": {
     "cell_type": "code",
     "checksum": "e9187ddfa6ff7b6f526e652e1bb85b58",
     "grade": true,
     "grade_id": "rep_rech",
     "locked": true,
     "points": 1,
     "schema_version": 3,
     "solution": false,
     "task": false
    }
   },
   "outputs": [],
   "source": [
    "# Cellule d'évaluation (ne pas modifier)"
   ]
  },
  {
   "cell_type": "code",
   "execution_count": null,
   "id": "308efbf5",
   "metadata": {},
   "outputs": [],
   "source": [
    "# Vous pouvez utiliser cette cellule pour tester votre fonction\n"
   ]
  },
  {
   "cell_type": "markdown",
   "id": "8cc83f4b",
   "metadata": {
    "deletable": false,
    "editable": false,
    "nbgrader": {
     "cell_type": "markdown",
     "checksum": "4e62768815d9064a83938d3f34f999c4",
     "grade": false,
     "grade_id": "cell-bb5da912440250a0",
     "locked": true,
     "schema_version": 3,
     "solution": false,
     "task": false
    }
   },
   "source": [
    "Dans le pire des cas (élément ne se trouvant pas dans la liste), combien de comparaisons doit-on opérer pour savoir si un élément est présent dans une liste de taille 400&nbsp;?"
   ]
  },
  {
   "cell_type": "code",
   "execution_count": null,
   "id": "dde127f4",
   "metadata": {},
   "outputs": [],
   "source": [
    "# noter votre réponse en affectant à la variable nb le nombre de comparaisons calculé\n",
    "nb = "
   ]
  },
  {
   "cell_type": "code",
   "execution_count": null,
   "id": "1764e834",
   "metadata": {
    "deletable": false,
    "editable": false,
    "nbgrader": {
     "cell_type": "code",
     "checksum": "f2d8f97f3645de8fee0868d412cd7132",
     "grade": true,
     "grade_id": "cell-77d7ebba6f7e5cc5",
     "locked": true,
     "points": 1,
     "schema_version": 3,
     "solution": false,
     "task": false
    }
   },
   "outputs": [],
   "source": [
    "# Cellule d'évaluation (ne pas modifier)"
   ]
  },
  {
   "cell_type": "markdown",
   "id": "90fb90e6",
   "metadata": {
    "deletable": false,
    "editable": false,
    "nbgrader": {
     "cell_type": "markdown",
     "checksum": "4c09e12fec590d7c69bcafbeecc80b6c",
     "grade": false,
     "grade_id": "cell-007edf84a534a8f2",
     "locked": true,
     "schema_version": 3,
     "solution": false,
     "task": false
    }
   },
   "source": [
    "Construisez une fonction `dico` qui prend en argument une liste `L` de $n$ entiers inférieurs à $n$ et qui retourne un dictionnaire de longueur $n$ dont les clés sont les $n$ premiers entiers (de 0 à $n$-1) et les valeurs comptent le nombre de fois que la clé est présente dans la liste.<br>\n",
    "Exemple :<br>\n",
    "s'il y a 2 fois l'élément 18 dans la liste `L`, alors `dico(L)[18]==2`, et si l'élément 97 n'est pas présent dans la liste, alors `dico(L)[97]==0`."
   ]
  },
  {
   "cell_type": "code",
   "execution_count": null,
   "id": "d7a53f86",
   "metadata": {
    "deletable": false,
    "nbgrader": {
     "cell_type": "code",
     "checksum": "a254da3e02896ddb0ace0816c420c101",
     "grade": false,
     "grade_id": "dico",
     "locked": false,
     "schema_version": 3,
     "solution": true,
     "task": false
    }
   },
   "outputs": [],
   "source": [
    "from random import randint \n",
    "\n",
    "def dico(L) :\n",
    "    '''\n",
    "    dico(L : list) -> dict\n",
    "    précondition : si la longueur de L vaut n, alors L ne contient que des entiers < n\n",
    "    '''\n",
    "    # VOTRE CODE"
   ]
  },
  {
   "cell_type": "code",
   "execution_count": null,
   "id": "2e909928",
   "metadata": {
    "deletable": false,
    "editable": false,
    "nbgrader": {
     "cell_type": "code",
     "checksum": "108735e2ce49f0c81d7be1fd1faae38d",
     "grade": true,
     "grade_id": "rep_dico",
     "locked": true,
     "points": 1,
     "schema_version": 3,
     "solution": false,
     "task": false
    }
   },
   "outputs": [],
   "source": [
    "# Cellule d'évaluation (ne pas modifier)"
   ]
  },
  {
   "cell_type": "markdown",
   "id": "9fb5eeca",
   "metadata": {
    "deletable": false,
    "editable": false,
    "nbgrader": {
     "cell_type": "markdown",
     "checksum": "4de6bf3a550b77b762d0a91685cb60b4",
     "grade": false,
     "grade_id": "cell-28e1b3486ea64286",
     "locked": true,
     "schema_version": 3,
     "solution": false,
     "task": false
    }
   },
   "source": [
    "Définissons une fonction `recherche_dico` qui vérifie si un entier est bien présent :"
   ]
  },
  {
   "cell_type": "code",
   "execution_count": null,
   "id": "3ae9ffb3",
   "metadata": {
    "deletable": false,
    "editable": false,
    "nbgrader": {
     "cell_type": "code",
     "checksum": "668c6cb0ae5c3dbb395b304a345cccc0",
     "grade": false,
     "grade_id": "cell-f15397680e795b1a",
     "locked": true,
     "schema_version": 3,
     "solution": false,
     "task": false
    }
   },
   "outputs": [],
   "source": [
    "def recherche_dico(e,dic) :\n",
    "    '''\n",
    "    recherche_dico(e : int, dic : dict) -> bool\n",
    "    '''\n",
    "    if dic[e] >= 1 :\n",
    "        return True\n",
    "    else :\n",
    "        return False\n",
    "    \n",
    "# Exemple d'utilisation :\n",
    "L = [5,2,3,1,2,0,2]\n",
    "dic = dico(L)\n",
    "(recherche_dico(3,dic),recherche_dico(4,dic))"
   ]
  },
  {
   "cell_type": "markdown",
   "id": "55fc6256",
   "metadata": {},
   "source": [
    "L'intérêt de `recherche-dico` est d'aller beaucoup plus vite que `recherche` comme le montre le graphe suivant (l'execution du code peut prendre quelques secondes) :"
   ]
  },
  {
   "cell_type": "code",
   "execution_count": null,
   "id": "22595f6a",
   "metadata": {
    "deletable": false,
    "editable": false,
    "nbgrader": {
     "cell_type": "code",
     "checksum": "82ecd82af0cecf796477de2d0e4bedf0",
     "grade": false,
     "grade_id": "cell-dbac9dc628057070",
     "locked": true,
     "schema_version": 3,
     "solution": false,
     "task": false
    }
   },
   "outputs": [],
   "source": [
    "from time import time\n",
    "from random import randint\n",
    "import matplotlib.pyplot as plt\n",
    "plt.style.use('ggplot')\n",
    "\n",
    "I, T_ch, T_dico = [], [], []\n",
    "\n",
    "for i in range(1000,200000,1000) :\n",
    "    L = []\n",
    "    L = [randint(0,i-1) for k in range(i)] # randint(i,j) retourne un entier dans {i;...;j}\n",
    "    # la liste L contient i éléments tirés au hasard entre 0 et i-1\n",
    "    dic = dico(L)                          # on crée un dictionnaire à partir de L grâce à la fonction 'dico'\n",
    "    element = randint(0,i-1)               # 'element' est un entier tiré au hasard entre 0 et i-1\n",
    "    start = time()                         # on note l'heure exacte\n",
    "    recherche(element,L)\n",
    "    stop1 = time()\n",
    "    recherche_dico(element,dic)\n",
    "    stop2 = time()\n",
    "    T_ch.append(stop1-start)\n",
    "    T_dico.append(stop2-stop1)\n",
    "    I.append(i)\n",
    "\n",
    "plt.figure(figsize = (15,5))\n",
    "plt.plot(I,T_dico,label=\"recherche_dico\")\n",
    "plt.plot(I,T_ch,label=\"votre fonction 'recherche'\")\n",
    "plt.xlabel('taille de la liste')\n",
    "plt.ylabel(\"temps d'exécution (s)\")\n",
    "plt.legend()"
   ]
  },
  {
   "cell_type": "markdown",
   "id": "26c2400e",
   "metadata": {
    "deletable": false,
    "editable": false,
    "nbgrader": {
     "cell_type": "markdown",
     "checksum": "4ba08561db03e2f3469fcbf66f0588a3",
     "grade": false,
     "grade_id": "cell-7e3cef8d519ba63d",
     "locked": true,
     "schema_version": 3,
     "solution": false,
     "task": false
    }
   },
   "source": [
    "## Recherche d'un maximum"
   ]
  },
  {
   "cell_type": "markdown",
   "id": "40b0bfd3",
   "metadata": {
    "deletable": false,
    "editable": false,
    "nbgrader": {
     "cell_type": "markdown",
     "checksum": "3839e11a50024f2d3336441523ea5366",
     "grade": false,
     "grade_id": "cell-433b26a930e8156a",
     "locked": true,
     "schema_version": 3,
     "solution": false,
     "task": false
    }
   },
   "source": [
    "Écrire une fonction `maximum` qui prend pour argument une liste et qui retourne le plus grand élément de la liste.<br>\n",
    "(Interdiciton d'utiliser la fonction native `max` évidemment)"
   ]
  },
  {
   "cell_type": "code",
   "execution_count": null,
   "id": "3f6472c3",
   "metadata": {
    "deletable": false,
    "nbgrader": {
     "cell_type": "code",
     "checksum": "468fb97210d741c6f9cb608cf9c839ae",
     "grade": false,
     "grade_id": "max",
     "locked": false,
     "schema_version": 3,
     "solution": true,
     "task": false
    }
   },
   "outputs": [],
   "source": [
    "def maximum(L) :\n",
    "    '''\n",
    "    maximum(L : list) -> float ou int\n",
    "    '''\n",
    "    # VOTRE CODE"
   ]
  },
  {
   "cell_type": "code",
   "execution_count": null,
   "id": "d1e46682",
   "metadata": {
    "deletable": false,
    "editable": false,
    "nbgrader": {
     "cell_type": "code",
     "checksum": "9b97802f1147f9ca891965d6ae28fa86",
     "grade": true,
     "grade_id": "rep_max",
     "locked": true,
     "points": 1,
     "schema_version": 3,
     "solution": false,
     "task": false
    }
   },
   "outputs": [],
   "source": [
    "# Cellule d'évaluation (ne pas modifier)"
   ]
  },
  {
   "cell_type": "code",
   "execution_count": null,
   "id": "f2801bb4",
   "metadata": {
    "deletable": false,
    "editable": false,
    "nbgrader": {
     "cell_type": "code",
     "checksum": "16eb74a83e982b0f8dcaa4440af7e71f",
     "grade": true,
     "grade_id": "rep_max_bis",
     "locked": true,
     "points": 1,
     "schema_version": 3,
     "solution": false,
     "task": false
    }
   },
   "outputs": [],
   "source": [
    "# Cellule d'évaluation (ne pas modifier)"
   ]
  },
  {
   "cell_type": "code",
   "execution_count": null,
   "id": "789b0c3c",
   "metadata": {},
   "outputs": [],
   "source": [
    "# Vous pouvez tester votre fonction dans cette cellule"
   ]
  },
  {
   "cell_type": "markdown",
   "id": "528efe82",
   "metadata": {
    "deletable": false,
    "editable": false,
    "nbgrader": {
     "cell_type": "markdown",
     "checksum": "954ac730a2de3729e39e9e6b3c5371ac",
     "grade": false,
     "grade_id": "cell-149c326c447ed482",
     "locked": true,
     "schema_version": 3,
     "solution": false,
     "task": false
    }
   },
   "source": [
    "Que se passera-t-il si on passe la liste suivante `[1,3,'a',-2]` en argument à `maximum` ?<br>"
   ]
  },
  {
   "cell_type": "code",
   "execution_count": null,
   "id": "ebcea03c",
   "metadata": {},
   "outputs": [],
   "source": [
    "maximum([1,3,'a',-2])"
   ]
  },
  {
   "cell_type": "markdown",
   "id": "90ae6687",
   "metadata": {
    "deletable": false,
    "editable": false,
    "nbgrader": {
     "cell_type": "markdown",
     "checksum": "35482b88bda1512ee0f61c6ac3ff5b8e",
     "grade": false,
     "grade_id": "cell-0339904ee763d4e3",
     "locked": true,
     "schema_version": 3,
     "solution": false,
     "task": false
    }
   },
   "source": [
    "Pour éviter cela, vous devrez tester en amont que la liste donnée en argument contient bien que des nombres.<br>\n",
    "Rappel : `type(3)` renvoie `int` et `type(2.8)` renvoie `float`.<br>\n",
    "Vous placerez un `assert` en début de fonction prévenant l'utilisateur que la liste contient des types farfelus."
   ]
  },
  {
   "cell_type": "code",
   "execution_count": null,
   "id": "1aeec602",
   "metadata": {
    "deletable": false,
    "nbgrader": {
     "cell_type": "code",
     "checksum": "e3c9cbd377c7cc38641a22535bd45bf4",
     "grade": false,
     "grade_id": "max_secu",
     "locked": false,
     "schema_version": 3,
     "solution": true,
     "task": false
    }
   },
   "outputs": [],
   "source": [
    "def maximum_secure(L) :\n",
    "    '''\n",
    "    maximum(L : list) -> float ou int\n",
    "    la fonction lève une 'AsserionError' si la liste ne contient pas que des nombres\n",
    "    '''\n",
    "    # VOTRE CODE"
   ]
  },
  {
   "cell_type": "code",
   "execution_count": null,
   "id": "4b3c5684",
   "metadata": {
    "deletable": false,
    "editable": false,
    "nbgrader": {
     "cell_type": "code",
     "checksum": "6fd9688d1596af6b3fc1eaeb218a8b56",
     "grade": true,
     "grade_id": "rep_max_secu",
     "locked": true,
     "points": 1,
     "schema_version": 3,
     "solution": false,
     "task": false
    }
   },
   "outputs": [],
   "source": [
    "# Cellule d'évaluation (ne pas modifier)"
   ]
  },
  {
   "cell_type": "code",
   "execution_count": null,
   "id": "323d90fe",
   "metadata": {},
   "outputs": [],
   "source": [
    "# Vous pouvez tester votre fonction dans cette cellule\n"
   ]
  },
  {
   "cell_type": "markdown",
   "id": "ae97bdaa",
   "metadata": {
    "deletable": false,
    "editable": false,
    "nbgrader": {
     "cell_type": "markdown",
     "checksum": "541c1046c38971e3e3f5be8c034a0276",
     "grade": false,
     "grade_id": "cell-d50bb2e4f5164703",
     "locked": true,
     "schema_version": 3,
     "solution": false,
     "task": false
    }
   },
   "source": [
    "Construisez maintenant une fonction `max_2` qui retourne le deuxième maximum défini comme le plus grand élément strictement inférieur au maximum (s'il y a plusieurs éléments ayant la valeur maximale, il ne faut pas retourner un de ceux-là).<br>\n",
    "Votre fonction `max_2` devra utiliser votre ancienne fonction `maximum`."
   ]
  },
  {
   "cell_type": "code",
   "execution_count": null,
   "id": "c237275f",
   "metadata": {
    "deletable": false,
    "nbgrader": {
     "cell_type": "code",
     "checksum": "672eda8c761bce1ee716517619c1b71d",
     "grade": false,
     "grade_id": "max2",
     "locked": false,
     "schema_version": 3,
     "solution": true,
     "task": false
    }
   },
   "outputs": [],
   "source": [
    "def max_2(L) :\n",
    "    '''\n",
    "    maximum_2(L : list) -> float ou int\n",
    "    précondition : L est une liste de nombres\n",
    "    postcondition : la fonction retourne le plus grand élément strictement plus petit que le max de la liste.\n",
    "    '''\n",
    "    # VOTRE CODE"
   ]
  },
  {
   "cell_type": "code",
   "execution_count": null,
   "id": "400a85e1",
   "metadata": {
    "deletable": false,
    "editable": false,
    "nbgrader": {
     "cell_type": "code",
     "checksum": "aab3f362c7aeea20e7d15699d0f60236",
     "grade": true,
     "grade_id": "rep_max2",
     "locked": true,
     "points": 1,
     "schema_version": 3,
     "solution": false,
     "task": false
    }
   },
   "outputs": [],
   "source": [
    "# Cellule d'évaluation (ne pas modifier)"
   ]
  },
  {
   "cell_type": "code",
   "execution_count": null,
   "id": "69640fc2",
   "metadata": {},
   "outputs": [],
   "source": [
    "# Vous pouvez tester votre fonction dans cette cellule\n"
   ]
  },
  {
   "cell_type": "markdown",
   "id": "32cbda10",
   "metadata": {
    "deletable": false,
    "editable": false,
    "nbgrader": {
     "cell_type": "markdown",
     "checksum": "9099036bb8a472b8d27037bca3cc59b5",
     "grade": false,
     "grade_id": "cell-5e66d6393e4fa053",
     "locked": true,
     "schema_version": 3,
     "solution": false,
     "task": false
    }
   },
   "source": [
    "Ci-dessous est représentée l'évolution du temps d'exécution de la fonction native `max` ainsi que de la fonction `maximum` (si vous avez réussi à l'implémenter) en fonction de la taille de la liste en argument.<br>\n",
    "On remarque que cette évolution est linéaire : l'augmentation du temps d'exécution semble proportionnelle à l'augmentation de la taille de la liste.<br>\n",
    "Rq : les blocs introduit par `try` et `except` ne sont là que pour gérer l'éventualité que vous n'ayez pas une fonction `maximum` opérationnelle."
   ]
  },
  {
   "cell_type": "code",
   "execution_count": null,
   "id": "17497571",
   "metadata": {},
   "outputs": [],
   "source": [
    "I, T_max, T_maximum = [], [], []\n",
    "for i in range(50000,1000000,50000) :\n",
    "    L = []\n",
    "    for k in range(i) :\n",
    "        L += [randint(0,k)]\n",
    "        # randint(i,j) retourne un entier dans {i;...;j}\n",
    "    start1 = time()\n",
    "    max(L)\n",
    "    stop1 = time()\n",
    "    T_max.append(stop1-start1)\n",
    "    start2 = time()\n",
    "    maximum(L)\n",
    "    stop2 = time()\n",
    "    T_maximum.append(stop2-start2)\n",
    "    I.append(i)\n",
    "\n",
    "plt.figure(figsize = (15,5))\n",
    "plt.plot(I,T_max,label=\"la fonction Python 'max'\")\n",
    "plt.plot(I,T_maximum,label=\"votre fonction 'maximum'\")\n",
    "\n",
    "plt.xlabel('taille de la liste')\n",
    "plt.ylabel(\"temps d'exécution (s)\")\n",
    "plt.legend()"
   ]
  },
  {
   "cell_type": "markdown",
   "id": "dba9e531",
   "metadata": {
    "deletable": false,
    "editable": false,
    "nbgrader": {
     "cell_type": "markdown",
     "checksum": "40e7e001a3ab9a654ef92edb1f2d1e4f",
     "grade": false,
     "grade_id": "cell-ac0e107a4e2da0d8",
     "locked": true,
     "schema_version": 3,
     "solution": false,
     "task": false
    }
   },
   "source": [
    "Ajoutez la fonction `max_2` à ce graphe et répondre dans la cellule suivante si oui ou non, le temps d'exécution de `max_2` semble dépendre linéairement de la taille de la liste.<br>"
   ]
  },
  {
   "cell_type": "code",
   "execution_count": null,
   "id": "040c5260",
   "metadata": {},
   "outputs": [],
   "source": [
    "# si votre réponse est oui, la variable s doit se voir affecter la chaîne de caractères 'OUI' et sinon, la chaîne 'NON'.\n",
    "s = '...'"
   ]
  },
  {
   "cell_type": "code",
   "execution_count": null,
   "id": "8af879f4",
   "metadata": {
    "deletable": false,
    "editable": false,
    "nbgrader": {
     "cell_type": "code",
     "checksum": "4014720f882956fba3547bb63fc5de91",
     "grade": true,
     "grade_id": "rep_lin",
     "locked": true,
     "points": 1,
     "schema_version": 3,
     "solution": false,
     "task": false
    }
   },
   "outputs": [],
   "source": [
    "# Cellule d'évaluation (ne pas modifier)"
   ]
  }
 ],
 "metadata": {
  "kernelspec": {
   "display_name": "Python 3",
   "language": "python",
   "name": "python3"
  },
  "language_info": {
   "codemirror_mode": {
    "name": "ipython",
    "version": 3
   },
   "file_extension": ".py",
   "mimetype": "text/x-python",
   "name": "python",
   "nbconvert_exporter": "python",
   "pygments_lexer": "ipython3",
   "version": "3.8.10"
  }
 },
 "nbformat": 4,
 "nbformat_minor": 5
}
